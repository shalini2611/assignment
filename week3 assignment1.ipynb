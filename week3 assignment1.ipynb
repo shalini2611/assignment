{
 "cells": [
  {
   "cell_type": "markdown",
   "id": "c062129c-8041-4975-90a5-6143999cc82a",
   "metadata": {
    "tags": []
   },
   "source": [
    "Que 1 : Which keyword is used to create a function? Create a function to return a list of odd numbers in the range of 1 to 25.\n",
    "ans 1: \"def\" keyword is used to create a fuction"
   ]
  },
  {
   "cell_type": "code",
   "execution_count": 1,
   "id": "53c75ee6",
   "metadata": {},
   "outputs": [
    {
     "data": {
      "text/plain": [
       "[1, 3, 5, 7, 9, 11, 13, 15, 17, 19, 21, 23, 25]"
      ]
     },
     "execution_count": 1,
     "metadata": {},
     "output_type": "execute_result"
    }
   ],
   "source": [
    "def test():\n",
    "    a=[]\n",
    "    for x in range(1,26) : \n",
    "        if x%2!=0 :\n",
    "            a.append(x)\n",
    "    return a\n",
    "\n",
    "test()"
   ]
  },
  {
   "cell_type": "markdown",
   "id": "6a8fad31-d606-402f-8eaa-6f4768b57edf",
   "metadata": {},
   "source": [
    " Que 2. Why *args and **kwargs is used in some functions? Create a function each for *args and **kwargs to demonstrate their use.\n",
    "\n",
    "Ans 2. *args and **kwargs are used to pass a variable number of arguments to the function.\n",
    "\n",
    "*args is used to send a non-keyworded variable length argument list to the function. \n",
    "It allows the function to receive a dynamic number of non-keyword arguments\n",
    "\n",
    "**kwargs allows a keyworded, variable-length argument list. It passes keyworded variable length of arguments to a function. The arguments are passed in the form of key-value pairs and packed into a dictionary."
   ]
  },
  {
   "cell_type": "code",
   "execution_count": 1,
   "id": "0b746439",
   "metadata": {},
   "outputs": [
    {
     "data": {
      "text/plain": [
       "(1, 2, 3, 4, 5, 6, (12, 3, 2), [123, 879, 34], {'name': 'shalini'})"
      ]
     },
     "execution_count": 1,
     "metadata": {},
     "output_type": "execute_result"
    }
   ],
   "source": [
    "#*args \n",
    "\n",
    "def test(*args):\n",
    "    return args \n",
    "\n",
    "test(1,2,3,4,5,6,(12,3,2),[123,879,34],{\"name\":\"shalini\"})\n"
   ]
  },
  {
   "cell_type": "code",
   "execution_count": 2,
   "id": "0c6ec4ef",
   "metadata": {},
   "outputs": [
    {
     "data": {
      "text/plain": [
       "{'a': 121, 'b': 'shalini', 'c': 'tripathi', 'd': 132.56}"
      ]
     },
     "execution_count": 2,
     "metadata": {},
     "output_type": "execute_result"
    }
   ],
   "source": [
    "# **kwargs\n",
    "\n",
    "def test1(**kwargs):\n",
    "    return kwargs\n",
    "\n",
    "test1(a=121,b=\"shalini\",c=\"tripathi\",d=132.56)"
   ]
  },
  {
   "cell_type": "raw",
   "id": "f11b1efc-145f-4b7f-acdb-c4b1a3ac2e57",
   "metadata": {},
   "source": [
    "Que3: What is an iterator in python? Name the method used to initialise the iterator object and the method used for iteration. Use these methods to print the first five elements of the given list [2, 4, 6, 8, 10, 12, 14, 16, 18, 20].\n",
    "\n",
    "\n",
    "ans3 :An iterator is an object in Python that can be iterated (looped) upon, meaning you can traverse through all the values.\n",
    "In Python, an iterator is an object that implements the iterator protocol, which consists of the methods __iter__() and __next__().\n",
    "\n",
    "1.  To initialize an iterator object in Python, you need to call the iter() function on an iterable object (e.g. list, tuple, dictionary, etc.).\n",
    "    The iter() function returns an iterator object.\n",
    "\n",
    "2.  To iterate over the elements of an iterator object in Python, you need to call the next() function on the iterator object.\n",
    "    The next() function returns the next element in the iterator. When there are no more elements in the iterator, the next() function raises the StopIteration exception.\n",
    "\n",
    "Below is an example of how to use the iter() function and the next() function to print the first five elements of the list [2, 4, 6, 8, 10, 12, 14, 16, 18, 20]:\n"
   ]
  },
  {
   "cell_type": "code",
   "execution_count": 11,
   "id": "f202628d",
   "metadata": {},
   "outputs": [
    {
     "name": "stdout",
     "output_type": "stream",
     "text": [
      "2\n",
      "4\n",
      "6\n",
      "8\n",
      "10\n"
     ]
    }
   ],
   "source": [
    "l=[2, 4, 6, 8, 10, 12, 14, 16, 18, 20]\n",
    "a=iter(l)\n",
    "for x in range(1,6):\n",
    "    b=(next(a))\n",
    "    print(b)"
   ]
  },
  {
   "cell_type": "markdown",
   "id": "5930a584-23f3-4b96-87db-b652934eb606",
   "metadata": {},
   "source": [
    "Que 4: What is a generator function in python? Why yield keyword is used? Give an example of a generator function.\n",
    "---\n",
    "\n",
    "ans 4:Generator functions are a special kind of function that return a lazy iterator called a generator iterator.\\\n",
    "These are objects that you can loop over like a list. \\\n",
    "However, unlike lists, lazy iterators do not store their contents in memory.\n",
    "\n",
    "The yield keyword in Python controls the flow of a generator function. This is similar to a return statement used for returning values in Python. However, there is a difference.\n",
    "\n",
    "When you call a function that has a yield statement, as soon as a yield is encountered, the execution of the function halts and returns a generator iterator object instead of simply returning a value. The state of the function, which includes variable bindings, the instruction pointer, the internal stack, and a few other things, is saved.\n",
    "\n",
    "In other words, the yield keyword will convert an expression that is specified along with it to a generator iterator, and return it to the caller.\n",
    "\n",
    "For example :-"
   ]
  },
  {
   "cell_type": "code",
   "execution_count": 16,
   "id": "eb77f79a",
   "metadata": {},
   "outputs": [
    {
     "name": "stdout",
     "output_type": "stream",
     "text": [
      "0 1 1 2 1 2 3 3 3 5 6\n"
     ]
    }
   ],
   "source": [
    "def test(m):\n",
    "    a,b,c,d=0,1,1,2\n",
    "    for x in range(m):\n",
    "        yield a \n",
    "        a,b,c,d=b,c,d,a+b\n",
    "    print(a)\n",
    "    \n",
    "for z in test(10):\n",
    "    print(z,end=\" \")"
   ]
  },
  {
   "cell_type": "raw",
   "id": "231341ab-0b64-4d51-9328-fc4768764f82",
   "metadata": {},
   "source": [
    "Que 5 : Create a generator function for prime numbers less than 1000. Use the next() method to print the first 20 prime numbers"
   ]
  },
  {
   "cell_type": "code",
   "execution_count": 23,
   "id": "b6a0c5d4",
   "metadata": {},
   "outputs": [
    {
     "name": "stdout",
     "output_type": "stream",
     "text": [
      "2 3 5 7 11 13 17 19 23 29 31 37 41 43 47 53 59 61 67 71 "
     ]
    }
   ],
   "source": [
    "def funct():\n",
    "    for z in range(2,1000):\n",
    "        for y in range(2,z):\n",
    "            if z%y==0:\n",
    "                break\n",
    "        else :\n",
    "            yield z\n",
    "            \n",
    "a=funct()\n",
    "for x in range(2,22):\n",
    "    print(next(a),end=\" \")"
   ]
  },
  {
   "cell_type": "markdown",
   "id": "971a43b9-ca4a-41da-8f9f-a17df65ad1f1",
   "metadata": {},
   "source": [
    "Ques 6: write a program to print a first 10 fibonacci series"
   ]
  },
  {
   "cell_type": "code",
   "execution_count": 3,
   "id": "f77bbe73-2d8a-4ea8-b6f3-acedc3ed4235",
   "metadata": {},
   "outputs": [
    {
     "name": "stdout",
     "output_type": "stream",
     "text": [
      "1 2 3 5 8 13 21 34 55 89 \n"
     ]
    }
   ],
   "source": [
    "n = 10\n",
    "num1 = 0\n",
    "num2 = 1\n",
    "next_number = num2\n",
    "count = 1\n",
    "\n",
    "while count <= n:\n",
    "\tprint(next_number, end=\" \")\n",
    "\tcount += 1\n",
    "\tnum1, num2 = num2, next_number\n",
    "\tnext_number = num1 + num2\n",
    "print()\n"
   ]
  },
  {
   "cell_type": "markdown",
   "id": "1aee25ad-a1cd-4550-9690-ff2ff6ad7a3d",
   "metadata": {},
   "source": [
    "Q7. Write a List Comprehension to iterate through the given string: ‘pwskills’. "
   ]
  },
  {
   "cell_type": "code",
   "execution_count": 14,
   "id": "94d92c82-8a4b-4ea6-b0da-57d2a6b7e4fb",
   "metadata": {},
   "outputs": [
    {
     "name": "stdout",
     "output_type": "stream",
     "text": [
      "['p', 'w', 's', 'k', 'i', 'l', 'l', 's']\n"
     ]
    }
   ],
   "source": [
    "#ans 7:\n",
    "List = []\n",
    "\n",
    "for character in 'pwskills':\n",
    "\tList.append(character)\n",
    "    \n",
    "print(List)\n"
   ]
  },
  {
   "cell_type": "markdown",
   "id": "4acde8be-546f-49c9-b34b-60a0145d5281",
   "metadata": {},
   "source": [
    "Q8. Write a python program to check whether a given number is Palindrome or not using a while loop.\n"
   ]
  },
  {
   "cell_type": "code",
   "execution_count": 7,
   "id": "87365a4a-0892-44fd-b9b8-243c943733f2",
   "metadata": {},
   "outputs": [
    {
     "name": "stdout",
     "output_type": "stream",
     "text": [
      "number is palindrome\n"
     ]
    }
   ],
   "source": [
    "#ans8:\n",
    "num=1001\n",
    "rev=0\n",
    "temp=num\n",
    "while(temp>0):\n",
    "    c=temp%10\n",
    "    rev=(rev*10)+c\n",
    "    temp=temp//10\n",
    "if(num==rev):\n",
    "    print(\"number is palindrome\")\n",
    "else:\n",
    "    print(\"not a palindrome\")"
   ]
  },
  {
   "cell_type": "markdown",
   "id": "2b61ca0b-51c4-4659-83c4-7b5fd4358425",
   "metadata": {},
   "source": [
    "que 9:Write a code to print odd numbers from 1 to 100 using list comprehension."
   ]
  },
  {
   "cell_type": "code",
   "execution_count": 10,
   "id": "bcb004bc-296f-4ad2-859e-e2f8cbc8eda2",
   "metadata": {},
   "outputs": [
    {
     "name": "stdout",
     "output_type": "stream",
     "text": [
      "[1, 2, 3, 4, 5, 6, 7, 8, 9, 10, 11, 12, 13, 14, 15, 16, 17, 18, 19, 20, 21, 22, 23, 24, 25, 26, 27, 28, 29, 30, 31, 32, 33, 34, 35, 36, 37, 38, 39, 40, 41, 42, 43, 44, 45, 46, 47, 48, 49, 50, 51, 52, 53, 54, 55, 56, 57, 58, 59, 60, 61, 62, 63, 64, 65, 66, 67, 68, 69, 70, 71, 72, 73, 74, 75, 76, 77, 78, 79, 80, 81, 82, 83, 84, 85, 86, 87, 88, 89, 90, 91, 92, 93, 94, 95, 96, 97, 98, 99, 100]\n"
     ]
    }
   ],
   "source": [
    "#ans_10 :\n",
    "list=[element for element in range (1,101)]\n",
    "print(list)"
   ]
  },
  {
   "cell_type": "code",
   "execution_count": 13,
   "id": "3442a6d9-82ca-4c1d-8b92-02d7f17cd18d",
   "metadata": {},
   "outputs": [
    {
     "name": "stdout",
     "output_type": "stream",
     "text": [
      "[2, 4, 6, 8, 10, 12, 14, 16, 18, 20, 22, 24, 26, 28, 30, 32, 34, 36, 38, 40, 42, 44, 46, 48, 50, 52, 54, 56, 58, 60, 62, 64, 66, 68, 70, 72, 74, 76, 78, 80, 82, 84, 86, 88, 90, 92, 94, 96, 98, 100]\n"
     ]
    }
   ],
   "source": [
    "odd_list=[element for element in range(1,101) if element%2==0]\n",
    "print(odd_list)"
   ]
  },
  {
   "cell_type": "code",
   "execution_count": null,
   "id": "f14b9784-e182-4ef8-a44c-4e8f45a868f2",
   "metadata": {},
   "outputs": [],
   "source": []
  }
 ],
 "metadata": {
  "kernelspec": {
   "display_name": "Python 3 (ipykernel)",
   "language": "python",
   "name": "python3"
  },
  "language_info": {
   "codemirror_mode": {
    "name": "ipython",
    "version": 3
   },
   "file_extension": ".py",
   "mimetype": "text/x-python",
   "name": "python",
   "nbconvert_exporter": "python",
   "pygments_lexer": "ipython3",
   "version": "3.10.8"
  }
 },
 "nbformat": 4,
 "nbformat_minor": 5
}
